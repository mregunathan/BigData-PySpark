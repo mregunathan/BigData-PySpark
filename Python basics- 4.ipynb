{
 "cells": [
  {
   "cell_type": "markdown",
   "metadata": {},
   "source": [
    "# INTRO TO PYTHON\n",
    "## Topics: Collections like DICT and SET"
   ]
  },
  {
   "cell_type": "markdown",
   "metadata": {},
   "source": [
    "# DICT or Dictionary - collection, NOT a sequence"
   ]
  },
  {
   "cell_type": "code",
   "execution_count": 221,
   "metadata": {},
   "outputs": [],
   "source": [
    "#Dict is a standard mapping type that consists of key and value pairs\n",
    "#keys contains hashable values (unique)\n",
    "#values can be any arbitrary objects\n",
    "#Values that are not hashable (because they are mutable) cannot be used as keys \n",
    "\n",
    "#Dict is good for fast lookups\n",
    "\n",
    "#Dict is not considered a sequence \n",
    "#because it's items cant be indexed in a sequential numeric order\n",
    "\n",
    "#Created using curly braces {} around key:value pairs separated by comma\n",
    "#Dictionaries preserve insertion order. \n",
    "#Note that updating a key does not affect the order. \n",
    "#Keys added after deletion are inserted at the end.\n",
    "\n",
    "\n",
    "capitalsdict = {'USA': 'Washington DC', \n",
    "                'France':'Paris', \n",
    "                'India': 'New Delhi', \n",
    "                'Oman': 'Muscat', \n",
    "                'Italy':'Rome'}"
   ]
  },
  {
   "cell_type": "code",
   "execution_count": 164,
   "metadata": {},
   "outputs": [],
   "source": [
    "#dictname.keys(), dictname.values() and dictname.items() \n",
    "#return Dictionary view objects\n",
    "# when the dict changes the view reflects these changes\n"
   ]
  },
  {
   "cell_type": "code",
   "execution_count": 165,
   "metadata": {},
   "outputs": [
    {
     "name": "stdout",
     "output_type": "stream",
     "text": [
      "dict_keys(['USA', 'France', 'India', 'Oman', 'Italy'])\n"
     ]
    }
   ],
   "source": [
    "print(capitalsdict.keys())"
   ]
  },
  {
   "cell_type": "code",
   "execution_count": 166,
   "metadata": {},
   "outputs": [
    {
     "name": "stdout",
     "output_type": "stream",
     "text": [
      "dict_values(['Washington DC', 'Paris', 'New Delhi', 'Muscat', 'Rome'])\n"
     ]
    }
   ],
   "source": [
    "print(capitalsdict.values())"
   ]
  },
  {
   "cell_type": "code",
   "execution_count": 167,
   "metadata": {},
   "outputs": [
    {
     "name": "stdout",
     "output_type": "stream",
     "text": [
      "dict_items([('USA', 'Washington DC'), ('France', 'Paris'), ('India', 'New Delhi'), ('Oman', 'Muscat'), ('Italy', 'Rome')])\n"
     ]
    }
   ],
   "source": [
    "print(capitalsdict.items())"
   ]
  },
  {
   "cell_type": "code",
   "execution_count": 56,
   "metadata": {},
   "outputs": [
    {
     "data": {
      "text/plain": [
       "[('USA', 'Washington DC'),\n",
       " ('France', 'Paris'),\n",
       " ('India', 'New Delhi'),\n",
       " ('Oman', 'Muscat'),\n",
       " ('Italy', 'Rome')]"
      ]
     },
     "execution_count": 56,
     "metadata": {},
     "output_type": "execute_result"
    }
   ],
   "source": [
    "# we can convert the items from a dict to a list by calling\n",
    "# the list() function\n",
    "\n",
    "list(capitalsdict.items())\n",
    "# note that the output is a LIST [] of tuples"
   ]
  },
  {
   "cell_type": "code",
   "execution_count": 179,
   "metadata": {},
   "outputs": [
    {
     "data": {
      "text/plain": [
       "'Washington DC'"
      ]
     },
     "execution_count": 179,
     "metadata": {},
     "output_type": "execute_result"
    }
   ],
   "source": [
    "#the following line produces an error because dict cant be indexed by numbers, only by keys\n",
    "# capitalsdict[3]  \n",
    "# the below line is okay\n",
    "capitalsdict['USA']"
   ]
  },
  {
   "cell_type": "markdown",
   "metadata": {},
   "source": [
    "## DICT operations"
   ]
  },
  {
   "cell_type": "code",
   "execution_count": 58,
   "metadata": {},
   "outputs": [
    {
     "name": "stdout",
     "output_type": "stream",
     "text": [
      "Rome\n"
     ]
    }
   ],
   "source": [
    "print(capitalsdict.get('Italy'))"
   ]
  },
  {
   "cell_type": "code",
   "execution_count": 59,
   "metadata": {},
   "outputs": [
    {
     "data": {
      "text/plain": [
       "5"
      ]
     },
     "execution_count": 59,
     "metadata": {},
     "output_type": "execute_result"
    }
   ],
   "source": [
    "len(capitalsdict)"
   ]
  },
  {
   "cell_type": "code",
   "execution_count": 60,
   "metadata": {},
   "outputs": [
    {
     "name": "stdout",
     "output_type": "stream",
     "text": [
      "found\n"
     ]
    }
   ],
   "source": [
    "if 'USA' in capitalsdict:\n",
    "  print(\"found\")\n",
    "else:\n",
    "  print(\"not found\")"
   ]
  },
  {
   "cell_type": "code",
   "execution_count": 61,
   "metadata": {},
   "outputs": [
    {
     "data": {
      "text/plain": [
       "'Muscat'"
      ]
     },
     "execution_count": 61,
     "metadata": {},
     "output_type": "execute_result"
    }
   ],
   "source": [
    "capitalsdict.pop('Oman')"
   ]
  },
  {
   "cell_type": "code",
   "execution_count": 180,
   "metadata": {},
   "outputs": [
    {
     "name": "stdout",
     "output_type": "stream",
     "text": [
      "{'USA': 'Washington DC', 'France': 'Paris', 'India': 'New Delhi', 'Oman': 'Muscat', 'Italy': 'Rome'}\n"
     ]
    }
   ],
   "source": [
    "print(capitalsdict)"
   ]
  },
  {
   "cell_type": "markdown",
   "metadata": {},
   "source": [
    "## Sorting DICT"
   ]
  },
  {
   "cell_type": "markdown",
   "metadata": {},
   "source": [
    " ### using sorted() function"
   ]
  },
  {
   "cell_type": "code",
   "execution_count": 223,
   "metadata": {},
   "outputs": [
    {
     "name": "stdout",
     "output_type": "stream",
     "text": [
      "['France', 'India', 'Italy', 'Oman', 'USA']\n"
     ]
    }
   ],
   "source": [
    "#capitalsdict.sort() # doesnt work for map, \n",
    "#.sort() method only available  for sequences (dict is NOT a sequence)\n",
    "\n",
    "print(sorted(capitalsdict))"
   ]
  },
  {
   "cell_type": "code",
   "execution_count": 226,
   "metadata": {},
   "outputs": [
    {
     "data": {
      "text/plain": [
       "['France', 'India', 'Italy', 'Oman', 'USA']"
      ]
     },
     "execution_count": 226,
     "metadata": {},
     "output_type": "execute_result"
    }
   ],
   "source": [
    "# sorted() function can take two optional parameters, key and reverse\n",
    "\n",
    "sorted(capitalsdict, key = lambda c : len(c))\n",
    "#OR\n",
    "sorted(capitalsdict, key = len, reverse = True)\n"
   ]
  },
  {
   "cell_type": "code",
   "execution_count": 225,
   "metadata": {},
   "outputs": [],
   "source": [
    "#note that sorted() automatically sorts just the keys of the dict \n",
    "#and returns a list\n",
    "# so how to print dict items?"
   ]
  },
  {
   "cell_type": "code",
   "execution_count": 228,
   "metadata": {},
   "outputs": [
    {
     "name": "stdout",
     "output_type": "stream",
     "text": [
      "France , Paris\n",
      "India , New Delhi\n",
      "Italy , Rome\n",
      "Oman , Muscat\n",
      "USA , Washington DC\n"
     ]
    }
   ],
   "source": [
    "#use the .get()) method of dict\n",
    "sortedDict = sorted(capitalsdict, key = len, reverse = True)\n",
    "for k in  sortedDict:\n",
    "    print(k,',',capitalsdict.get(k))"
   ]
  },
  {
   "cell_type": "code",
   "execution_count": 229,
   "metadata": {},
   "outputs": [],
   "source": [
    "# there are lots more ways to sort dict\n",
    "# see here: https://stackoverflow.com/questions/20944483/python-3-sort-a-dict-by-its-values"
   ]
  },
  {
   "cell_type": "markdown",
   "metadata": {},
   "source": [
    "# SET - immutable collection, not a sequence"
   ]
  },
  {
   "cell_type": "code",
   "execution_count": 230,
   "metadata": {},
   "outputs": [],
   "source": [
    "#Unordered collection of distinct (unique) hashable objects\n",
    "#Mutable objects (e.g., list) are not hashable objects\n",
    "#Set itself is mutable – add() and remove() available \n",
    "# But its elements must be immutable \n",
    "#So tuple may be included in a set, but dictionaries and lists cannot\n",
    "\n",
    "#Common uses include membership testing, \n",
    "#removing duplicates from a sequence, and \n",
    "#computing mathematical operations such as intersection, union, \n",
    "#difference, and symmetric difference. \n",
    "#Being an unordered collection, sets do not record element position \n",
    "#or order of insertion. \n",
    "#Accordingly, sets do not support indexing, slicing, or other sequence-like behavior.\n"
   ]
  },
  {
   "cell_type": "code",
   "execution_count": 233,
   "metadata": {},
   "outputs": [],
   "source": [
    "# many ways to create a set\n",
    "aset = {5,20,15,30,10,25,15,30}  # from separate elements  using {}\n",
    "bset=set((5,10,15,20,25,30))  # from an iterable -  tuple\n",
    "cset=set([20, 25, 30, 35, 40])  # from an interable -  list\n",
    "dset = {'foo', 'jar'}\n",
    "eset = set('foo')\n",
    "\n",
    "#Note: using the set() function breaks down elements from the iterable\n",
    "#if the iterable is a single string, its elements will be chars\n",
    "#if the iterable is multiple strings, its elements will be the strings"
   ]
  },
  {
   "cell_type": "code",
   "execution_count": 234,
   "metadata": {},
   "outputs": [
    {
     "name": "stdout",
     "output_type": "stream",
     "text": [
      "{5, 10, 15, 20, 25, 30}\n",
      "{5, 10, 15, 20, 25, 30}\n",
      "{35, 40, 20, 25, 30}\n",
      "{'foo', 'jar'}\n",
      "{'f', 'o'}\n"
     ]
    }
   ],
   "source": [
    "print(aset, bset, cset, dset, eset, sep=\"\\n\")"
   ]
  },
  {
   "cell_type": "code",
   "execution_count": 70,
   "metadata": {},
   "outputs": [
    {
     "data": {
      "text/plain": [
       "False"
      ]
     },
     "execution_count": 70,
     "metadata": {},
     "output_type": "execute_result"
    }
   ],
   "source": [
    "aset.isdisjoint(cset)"
   ]
  },
  {
   "cell_type": "code",
   "execution_count": 71,
   "metadata": {},
   "outputs": [
    {
     "data": {
      "text/plain": [
       "True"
      ]
     },
     "execution_count": 71,
     "metadata": {},
     "output_type": "execute_result"
    }
   ],
   "source": [
    "aset.issubset(bset)"
   ]
  },
  {
   "cell_type": "code",
   "execution_count": 72,
   "metadata": {},
   "outputs": [
    {
     "data": {
      "text/plain": [
       "True"
      ]
     },
     "execution_count": 72,
     "metadata": {},
     "output_type": "execute_result"
    }
   ],
   "source": [
    "aset.issuperset(bset)"
   ]
  },
  {
   "cell_type": "code",
   "execution_count": 73,
   "metadata": {},
   "outputs": [
    {
     "data": {
      "text/plain": [
       "{5, 10, 15, 20, 25, 30, 35, 40}"
      ]
     },
     "execution_count": 73,
     "metadata": {},
     "output_type": "execute_result"
    }
   ],
   "source": [
    "aset.union(bset, cset)"
   ]
  },
  {
   "cell_type": "code",
   "execution_count": 74,
   "metadata": {},
   "outputs": [
    {
     "data": {
      "text/plain": [
       "{20, 25, 30}"
      ]
     },
     "execution_count": 74,
     "metadata": {},
     "output_type": "execute_result"
    }
   ],
   "source": [
    "aset.intersection(cset)"
   ]
  },
  {
   "cell_type": "code",
   "execution_count": 75,
   "metadata": {},
   "outputs": [
    {
     "data": {
      "text/plain": [
       "{5, 10, 15}"
      ]
     },
     "execution_count": 75,
     "metadata": {},
     "output_type": "execute_result"
    }
   ],
   "source": [
    "aset.difference(cset)"
   ]
  },
  {
   "cell_type": "code",
   "execution_count": 76,
   "metadata": {},
   "outputs": [
    {
     "data": {
      "text/plain": [
       "{5, 10, 15, 35, 40}"
      ]
     },
     "execution_count": 76,
     "metadata": {},
     "output_type": "execute_result"
    }
   ],
   "source": [
    "aset.symmetric_difference(cset)"
   ]
  },
  {
   "cell_type": "code",
   "execution_count": 191,
   "metadata": {},
   "outputs": [
    {
     "data": {
      "text/plain": [
       "10"
      ]
     },
     "execution_count": 191,
     "metadata": {},
     "output_type": "execute_result"
    }
   ],
   "source": [
    "bset.pop()"
   ]
  }
 ],
 "metadata": {
  "kernelspec": {
   "display_name": "Python 3",
   "language": "python",
   "name": "python3"
  },
  "language_info": {
   "codemirror_mode": {
    "name": "ipython",
    "version": 3
   },
   "file_extension": ".py",
   "mimetype": "text/x-python",
   "name": "python",
   "nbconvert_exporter": "python",
   "pygments_lexer": "ipython3",
   "version": "3.7.3"
  },
  "name": "VRJune18-Python basics",
  "notebookId": 2062488962315635
 },
 "nbformat": 4,
 "nbformat_minor": 1
}
