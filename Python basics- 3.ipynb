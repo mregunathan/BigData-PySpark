{
 "cells": [
  {
   "cell_type": "markdown",
   "metadata": {},
   "source": [
    "# INTRO TO PYTHON\n",
    "## Topics: More Sequences: LIST, TUPLE"
   ]
  },
  {
   "cell_type": "markdown",
   "metadata": {},
   "source": [
    "# SEQUENCES"
   ]
  },
  {
   "cell_type": "markdown",
   "metadata": {},
   "source": [
    "# LIST - a mutable sequence"
   ]
  },
  {
   "cell_type": "code",
   "execution_count": 43,
   "metadata": {},
   "outputs": [],
   "source": [
    "#List is an ordered collection of 0 or more elements \n",
    "#Elements don't have to be unique \n",
    "#Elements can be various types, even other lists \n",
    "#List is mutable\n"
   ]
  },
  {
   "cell_type": "code",
   "execution_count": 177,
   "metadata": {},
   "outputs": [
    {
     "name": "stdout",
     "output_type": "stream",
     "text": [
      "['a', 'i', 'u', 'e', 'a', 'i', 'u', 'e']\n"
     ]
    }
   ],
   "source": [
    "# create a list of chars\n",
    "# sequences can end in a comma (optionally)\n",
    "\n",
    "alist = ['a', 'i', 'u', 'e']\n",
    "alist2 = ['o',]\n",
    "alist3 = alist*2\n",
    "print(alist3)\n"
   ]
  },
  {
   "cell_type": "markdown",
   "metadata": {},
   "source": [
    "## creating LIST from other collections (sequences, dict etc)"
   ]
  },
  {
   "cell_type": "code",
   "execution_count": 178,
   "metadata": {},
   "outputs": [
    {
     "name": "stdout",
     "output_type": "stream",
     "text": [
      "['apple', 'orange', 'banana']\n",
      "[0, 1, 2, 3, 4, 5, 6, 7, 8, 9]\n"
     ]
    }
   ],
   "source": [
    "# we can call the list() function and give it a sequence \n",
    "# of another kind to  convert it to a list\n",
    "\n",
    "mylist =list(('apple', 'orange', 'banana'))\n",
    "print(mylist)\n",
    "mylist = list(range(10))\n",
    "print(mylist)"
   ]
  },
  {
   "cell_type": "markdown",
   "metadata": {},
   "source": [
    "## List operations"
   ]
  },
  {
   "cell_type": "code",
   "execution_count": 118,
   "metadata": {},
   "outputs": [
    {
     "name": "stdout",
     "output_type": "stream",
     "text": [
      "['a', 'i', 'u', 'e', 'o']\n",
      "['a', 'i', 'u', 'e', 'o', 'y']\n",
      "['a', 'i', 'u', 'e', 'o']\n"
     ]
    }
   ],
   "source": [
    "# when we make changes to LIST, notice that the underlying list is mutated\n",
    "alist += alist2\n",
    "print(alist)\n",
    "alist.append('y')\n",
    "print(alist)\n",
    "alist.remove('y')\n",
    "print(alist)\n"
   ]
  },
  {
   "cell_type": "code",
   "execution_count": 120,
   "metadata": {},
   "outputs": [
    {
     "name": "stdout",
     "output_type": "stream",
     "text": [
      "['a', 'e', 'i', 'o', 'u']\n",
      "['u', 'o', 'i', 'e', 'a']\n"
     ]
    }
   ],
   "source": [
    "alist.sort()\n",
    "print(alist)\n",
    "alist.reverse()\n",
    "print(alist)\n"
   ]
  },
  {
   "cell_type": "code",
   "execution_count": 121,
   "metadata": {},
   "outputs": [
    {
     "data": {
      "text/plain": [
       "'a'"
      ]
     },
     "execution_count": 121,
     "metadata": {},
     "output_type": "execute_result"
    }
   ],
   "source": [
    "# we can treat LIST as a stack- and use pop(remove last element)\n",
    "# or pop(index)\n",
    "alist.pop()\n"
   ]
  },
  {
   "cell_type": "code",
   "execution_count": 129,
   "metadata": {},
   "outputs": [
    {
     "data": {
      "text/plain": [
       "'a'"
      ]
     },
     "execution_count": 129,
     "metadata": {},
     "output_type": "execute_result"
    }
   ],
   "source": [
    "alist.pop(0)"
   ]
  },
  {
   "cell_type": "code",
   "execution_count": 130,
   "metadata": {},
   "outputs": [
    {
     "name": "stdout",
     "output_type": "stream",
     "text": [
      "['o', 'i', 'e']\n"
     ]
    },
    {
     "data": {
      "text/plain": [
       "3"
      ]
     },
     "execution_count": 130,
     "metadata": {},
     "output_type": "execute_result"
    }
   ],
   "source": [
    "print(alist)\n",
    "len(alist)"
   ]
  },
  {
   "cell_type": "code",
   "execution_count": 131,
   "metadata": {},
   "outputs": [
    {
     "data": {
      "text/plain": [
       "['a', 'o', 'i', 'e']"
      ]
     },
     "execution_count": 131,
     "metadata": {},
     "output_type": "execute_result"
    }
   ],
   "source": [
    "alist.insert(0,'a')\n",
    "alist\n"
   ]
  },
  {
   "cell_type": "code",
   "execution_count": 133,
   "metadata": {},
   "outputs": [
    {
     "data": {
      "text/plain": [
       "['a', 'e']"
      ]
     },
     "execution_count": 133,
     "metadata": {},
     "output_type": "execute_result"
    }
   ],
   "source": [
    "del alist[1]\n",
    "alist"
   ]
  },
  {
   "cell_type": "markdown",
   "metadata": {},
   "source": [
    "## Sorting Sequences - with the in-place .sort() method"
   ]
  },
  {
   "cell_type": "code",
   "execution_count": 135,
   "metadata": {},
   "outputs": [
    {
     "name": "stdout",
     "output_type": "stream",
     "text": [
      "['saw', 'small', 'he', 'foxes', 'six']\n",
      "['foxes', 'he', 'saw', 'six', 'small']\n"
     ]
    }
   ],
   "source": [
    "# sequences including LIST can be sorted using the .sort() method available in sequences\n",
    "# default sort order is natural ordering of values in ascending order\n",
    "\n",
    "anotherlist = ['saw', 'small', 'he', 'foxes', 'six']\n",
    "print(anotherlist)\n",
    "anotherlist.sort()\n",
    "print(anotherlist)\n"
   ]
  },
  {
   "cell_type": "code",
   "execution_count": 280,
   "metadata": {},
   "outputs": [
    {
     "name": "stdout",
     "output_type": "stream",
     "text": [
      "['he', 'six', 'saw', 'small', 'foxes']\n",
      "['small', 'foxes', 'six', 'saw', 'he']\n",
      "['he', 'six', 'saw', 'small', 'foxes']\n"
     ]
    }
   ],
   "source": [
    "# sort has a few useful options\n",
    "# reverse: True or False\n",
    "# key: we can change the sort order by specifying a key fucntion (can also be a lambda - more later)\n",
    "\n",
    "anotherlist.sort(key = len)   #len calls the built-in  len() function\n",
    "print(anotherlist)\n",
    "anotherlist.sort(key = len, reverse = True)\n",
    "print(anotherlist)\n",
    "anotherlist.sort(key = lambda x: len(x))\n",
    "print(anotherlist)\n"
   ]
  },
  {
   "cell_type": "markdown",
   "metadata": {},
   "source": [
    "## see LAMBDA functions later: small anonymous functions, cant be reused and always return a value"
   ]
  },
  {
   "cell_type": "markdown",
   "metadata": {},
   "source": [
    "## Sorting using the sorted() function - works on any iterables"
   ]
  },
  {
   "cell_type": "code",
   "execution_count": 210,
   "metadata": {},
   "outputs": [
    {
     "name": "stdout",
     "output_type": "stream",
     "text": [
      "['foxes', 'he', 'saw', 'six', 'small']\n",
      "['small', 'six', 'saw', 'he', 'foxes']\n"
     ]
    }
   ],
   "source": [
    "# can sort iterables (sequences are included) using the sorted() function\n",
    "# sorted() returns a list\n",
    "\n",
    "a = sorted(anotherlist)\n",
    "print(a)\n",
    "\n",
    "a = sorted(anotherlist, reverse=True)\n",
    "print(a)\n"
   ]
  },
  {
   "cell_type": "markdown",
   "metadata": {},
   "source": [
    "## Reverse sort using reversed() function  - only works on sequences"
   ]
  },
  {
   "cell_type": "code",
   "execution_count": 204,
   "metadata": {},
   "outputs": [
    {
     "name": "stdout",
     "output_type": "stream",
     "text": [
      "<list_reverseiterator object at 0x000001B84CB250F0>\n",
      "small\n",
      "six\n",
      "saw\n",
      "he\n",
      "foxes\n"
     ]
    }
   ],
   "source": [
    "# another wya to reverse is to use the reversed() function- \n",
    "# but it returns an iterable rather than a sequence - need a loop to print it\n",
    "\n",
    "b = reversed(a)\n",
    "print(b)  # this doesnt print the results\n",
    "\n",
    "# create a loop to print the contents of the iterable\n",
    "for i in b:\n",
    "    print(i)"
   ]
  },
  {
   "cell_type": "markdown",
   "metadata": {},
   "source": [
    "## List Comprehension"
   ]
  },
  {
   "cell_type": "code",
   "execution_count": 145,
   "metadata": {},
   "outputs": [
    {
     "name": "stdout",
     "output_type": "stream",
     "text": [
      "[0, 1, 4, 9, 16, 25, 36, 49, 64, 81]\n",
      "[0, 1, 4, 9, 16, 25, 36, 49, 64, 81]\n",
      "[0, 0, 2, 4, 4, 16]\n"
     ]
    }
   ],
   "source": [
    "# list comprehension - a shorthand notation \n",
    "# helpful for populating lists\n",
    "\n",
    "squared_integers = []\n",
    "\n",
    "for i in range(0,10):\n",
    "  squared_integers.append(i*i)\n",
    "print(squared_integers)\n",
    "\n",
    "# the above code can be shortened\n",
    "squared_integers = [i*i for i in range(0,10)]\n",
    "print(squared_integers)\n",
    "\n",
    "# can be more complex as well\n",
    "my_exponents = [x**y for x in range(5) if x%2==0 for y in range(1,3)]\n",
    "print(my_exponents)"
   ]
  },
  {
   "cell_type": "code",
   "execution_count": 146,
   "metadata": {},
   "outputs": [],
   "source": [
    "#NOTE about matrices\n",
    "# List can be used to create lists of lists - like a matrix\n",
    "# but not very fast for numeric ddata/operations\n",
    "# for scientific calculations, use numPy classes"
   ]
  },
  {
   "cell_type": "markdown",
   "metadata": {},
   "source": [
    "# TUPLE - an immutable sequence"
   ]
  },
  {
   "cell_type": "code",
   "execution_count": 48,
   "metadata": {},
   "outputs": [],
   "source": [
    "#Tuple contains a sequence of comma-separated, ordered values\n",
    "#Optionally use parentheses around all the values\n",
    "#Note that tuples are not formed by the parentheses, but rather by use of the comma operator. \n",
    "#The exception is the empty tuple, for which parentheses are required\n",
    "# allowing unparenthesized “nothing” in expressions would cause ambiguities and allow common typos to pass uncaught.\n",
    "#Tuple are immutable - Once created, you cannot change its value in the assgined memory location\n"
   ]
  },
  {
   "cell_type": "code",
   "execution_count": 152,
   "metadata": {},
   "outputs": [
    {
     "name": "stdout",
     "output_type": "stream",
     "text": [
      "2\n",
      "some string\n",
      "[1, 2, 3, 4]\n",
      "3\n",
      "None\n",
      "('some string', [1, 2, 3, 4, 5])\n"
     ]
    }
   ],
   "source": [
    "atuple =('some string', [1,2,3,4],)\n",
    "print(len(atuple))\n",
    "print(atuple[0])\n",
    "print(atuple[len(atuple)-1])\n",
    "print(atuple[len(atuple)-1][2])\n",
    "print(atuple[1].append(5))\n",
    "print(atuple)"
   ]
  },
  {
   "cell_type": "code",
   "execution_count": 154,
   "metadata": {},
   "outputs": [],
   "source": [
    "# the following line of code produces an error - remove # to see it\n",
    "#atuple[0] = 'other string'   #not allowed"
   ]
  },
  {
   "cell_type": "code",
   "execution_count": 155,
   "metadata": {},
   "outputs": [
    {
     "name": "stdout",
     "output_type": "stream",
     "text": [
      "some string\n",
      "[1, 2, 3, 4, 5]\n"
     ]
    }
   ],
   "source": [
    "for item in atuple:\n",
    "  print(item)"
   ]
  },
  {
   "cell_type": "code",
   "execution_count": 161,
   "metadata": {},
   "outputs": [
    {
     "data": {
      "text/plain": [
       "('some string', [1, 2, 3, 4, 5], 'genius', 789, 'genius', 789, 'genius', 789)"
      ]
     },
     "execution_count": 161,
     "metadata": {},
     "output_type": "execute_result"
    }
   ],
   "source": [
    "# tuples cane be concatenated\n",
    "\n",
    "atuple +('genius', 789)"
   ]
  }
 ],
 "metadata": {
  "kernelspec": {
   "display_name": "Python 3",
   "language": "python",
   "name": "python3"
  },
  "language_info": {
   "codemirror_mode": {
    "name": "ipython",
    "version": 3
   },
   "file_extension": ".py",
   "mimetype": "text/x-python",
   "name": "python",
   "nbconvert_exporter": "python",
   "pygments_lexer": "ipython3",
   "version": "3.7.3"
  },
  "name": "VRJune18-Python basics",
  "notebookId": 2062488962315635
 },
 "nbformat": 4,
 "nbformat_minor": 1
}
