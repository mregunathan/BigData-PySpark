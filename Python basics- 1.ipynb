{
 "cells": [
  {
   "cell_type": "markdown",
   "metadata": {},
   "source": [
    "# INTRO TO PYTHON"
   ]
  },
  {
   "cell_type": "markdown",
   "metadata": {},
   "source": [
    "## VARIABLES"
   ]
  },
  {
   "cell_type": "markdown",
   "metadata": {},
   "source": [
    "\"\"\"comments written on \n",
    "multiple lines\n",
    "are written inside triple quotes\"\"\""
   ]
  },
  {
   "cell_type": "code",
   "execution_count": 1,
   "metadata": {},
   "outputs": [],
   "source": [
    "#VARIABLES\n",
    "\n",
    "#The principal built-in types are numerics, sequences, mappings, classes, instances and exceptions.\n",
    "#Simple values:\n",
    "    #Numbers, Characters strings, Booleans, individual objects/ instance of a class, None (empty/unknown value)\n",
    "#Compound values\n",
    "    #Lists, Dictionaries, Sets, Tuples\n"
   ]
  },
  {
   "cell_type": "markdown",
   "metadata": {},
   "source": [
    "## OBJECTS"
   ]
  },
  {
   "cell_type": "code",
   "execution_count": 2,
   "metadata": {},
   "outputs": [],
   "source": [
    "#OBJECTS\n",
    "\n",
    "#Everything in Python is an object, and almost everything has attributes and methods.\n",
    "#Objects are stored in variables\n",
    "#Objects are either mutable or immutable\n",
    "#Objects of built-in types like int, float, complex, bool, str, tuple, frozen set, byte, unicode are immutable. \n",
    "#Objects of built-in types like list, set, dict, bytearray are mutable. \n",
    "\n",
    "#Custom classes are generally mutable.\n",
    "#To simulate immutability in a class, one should override attribute setting and deletion to raise exceptions\n"
   ]
  },
  {
   "cell_type": "markdown",
   "metadata": {},
   "source": [
    "# BOOLEANS, NUMERIC AND STRINGS"
   ]
  },
  {
   "cell_type": "markdown",
   "metadata": {},
   "source": [
    "## BOOLEAN/bool"
   ]
  },
  {
   "cell_type": "code",
   "execution_count": 2,
   "metadata": {},
   "outputs": [
    {
     "data": {
      "text/plain": [
       "True"
      ]
     },
     "execution_count": 2,
     "metadata": {},
     "output_type": "execute_result"
    }
   ],
   "source": [
    "val1= False\n",
    "val2= True\n",
    "\n",
    "val1 or val2"
   ]
  },
  {
   "cell_type": "code",
   "execution_count": 3,
   "metadata": {},
   "outputs": [
    {
     "data": {
      "text/plain": [
       "False"
      ]
     },
     "execution_count": 3,
     "metadata": {},
     "output_type": "execute_result"
    }
   ],
   "source": [
    "val1 and val2"
   ]
  },
  {
   "cell_type": "code",
   "execution_count": 4,
   "metadata": {},
   "outputs": [
    {
     "data": {
      "text/plain": [
       "True"
      ]
     },
     "execution_count": 4,
     "metadata": {},
     "output_type": "execute_result"
    }
   ],
   "source": [
    "not val1"
   ]
  },
  {
   "cell_type": "code",
   "execution_count": 5,
   "metadata": {},
   "outputs": [
    {
     "data": {
      "text/plain": [
       "bool"
      ]
     },
     "execution_count": 5,
     "metadata": {},
     "output_type": "execute_result"
    }
   ],
   "source": [
    "#use type() to obtain the data type of a variable\n",
    "type(val1)"
   ]
  },
  {
   "cell_type": "markdown",
   "metadata": {},
   "source": [
    "## NUMERICS"
   ]
  },
  {
   "cell_type": "code",
   "execution_count": 6,
   "metadata": {},
   "outputs": [
    {
     "data": {
      "text/plain": [
       "20"
      ]
     },
     "execution_count": 6,
     "metadata": {},
     "output_type": "execute_result"
    }
   ],
   "source": [
    "a = 20\n",
    "b = 30\n",
    "a%b  # +, -, *, /, %\n"
   ]
  },
  {
   "cell_type": "code",
   "execution_count": 7,
   "metadata": {},
   "outputs": [
    {
     "data": {
      "text/plain": [
       "30"
      ]
     },
     "execution_count": 7,
     "metadata": {},
     "output_type": "execute_result"
    }
   ],
   "source": [
    "30"
   ]
  },
  {
   "cell_type": "code",
   "execution_count": 8,
   "metadata": {},
   "outputs": [
    {
     "data": {
      "text/plain": [
       "2"
      ]
     },
     "execution_count": 8,
     "metadata": {},
     "output_type": "execute_result"
    }
   ],
   "source": [
    "30%4"
   ]
  },
  {
   "cell_type": "markdown",
   "metadata": {},
   "source": [
    "## STRINGS"
   ]
  },
  {
   "cell_type": "code",
   "execution_count": 9,
   "metadata": {},
   "outputs": [],
   "source": [
    "# string is a sequence of chars that is immutable\n",
    "# define a string literal"
   ]
  },
  {
   "cell_type": "code",
   "execution_count": 10,
   "metadata": {},
   "outputs": [
    {
     "data": {
      "text/plain": [
       "'we are learning python'"
      ]
     },
     "execution_count": 10,
     "metadata": {},
     "output_type": "execute_result"
    }
   ],
   "source": [
    "'we are learning python'"
   ]
  },
  {
   "cell_type": "code",
   "execution_count": 11,
   "metadata": {},
   "outputs": [
    {
     "data": {
      "text/plain": [
       "'we are learning python'"
      ]
     },
     "execution_count": 11,
     "metadata": {},
     "output_type": "execute_result"
    }
   ],
   "source": [
    "mystring = 'we are learning python'\n",
    "mystring"
   ]
  },
  {
   "cell_type": "code",
   "execution_count": 12,
   "metadata": {},
   "outputs": [
    {
     "data": {
      "text/plain": [
       "'we are learning \\n+ \\npython'"
      ]
     },
     "execution_count": 12,
     "metadata": {},
     "output_type": "execute_result"
    }
   ],
   "source": [
    "mystring2 = \"we are learning \\n+ \\npython\"\n",
    "mystring2"
   ]
  },
  {
   "cell_type": "code",
   "execution_count": 13,
   "metadata": {},
   "outputs": [
    {
     "name": "stdout",
     "output_type": "stream",
     "text": [
      "we are learning \n",
      "+ \n",
      "python\n"
     ]
    }
   ],
   "source": [
    "# using print to show answers/outcomes\n",
    "\n",
    "print(mystring2)"
   ]
  },
  {
   "cell_type": "code",
   "execution_count": 14,
   "metadata": {},
   "outputs": [
    {
     "name": "stdout",
     "output_type": "stream",
     "text": [
      "we are learning\n",
      "+\n",
      "python\n"
     ]
    },
    {
     "data": {
      "text/plain": [
       "24"
      ]
     },
     "execution_count": 14,
     "metadata": {},
     "output_type": "execute_result"
    }
   ],
   "source": [
    "# an easier way -  use multi-line strings by starting and ending wittgh triple quotes\n",
    "\n",
    "mystring3 = \"\"\"we are learning\n",
    "+\n",
    "python\"\"\"  \n",
    "print(mystring3)\n",
    "len(mystring3)"
   ]
  },
  {
   "cell_type": "markdown",
   "metadata": {},
   "source": [
    "### Escape characters"
   ]
  },
  {
   "cell_type": "code",
   "execution_count": 15,
   "metadata": {},
   "outputs": [],
   "source": [
    "#ESCAPE CHARACTERS\n",
    "\n",
    "#\\t \\n \\b \\f \\v - These are called escape characters. \n",
    "#They start with a \\(backslash). \n",
    "# Internally, they are not interpreted as normal strings, but rather as special characters \n",
    "# that represent something else.\n",
    "\n",
    "# To escape quotes and special characters, add an extra \\ - so to print \\, need \\\\\n"
   ]
  },
  {
   "cell_type": "code",
   "execution_count": 16,
   "metadata": {},
   "outputs": [
    {
     "name": "stdout",
     "output_type": "stream",
     "text": [
      "my name is:\tvandana\n"
     ]
    }
   ],
   "source": [
    "mystring = 'my name is:\\tvandana'\n",
    "print(mystring)"
   ]
  },
  {
   "cell_type": "code",
   "execution_count": 17,
   "metadata": {},
   "outputs": [
    {
     "name": "stdout",
     "output_type": "stream",
     "text": [
      "my name is:\tvandana\n"
     ]
    }
   ],
   "source": [
    "# the following produces an error - delete the # in front on the line to run it\n",
    "#mystring = 'my name is:\\vandana\\'    \n",
    "print(mystring)"
   ]
  },
  {
   "cell_type": "code",
   "execution_count": 18,
   "metadata": {},
   "outputs": [
    {
     "name": "stdout",
     "output_type": "stream",
     "text": [
      "my name is:\\\"vandana\"\n"
     ]
    }
   ],
   "source": [
    "mystring = 'my name is:\\\\\\\"vandana\\\"'\n",
    "print(mystring)"
   ]
  },
  {
   "cell_type": "markdown",
   "metadata": {},
   "source": [
    "### Raw strings"
   ]
  },
  {
   "cell_type": "code",
   "execution_count": 19,
   "metadata": {},
   "outputs": [],
   "source": [
    "# RAW STRINGS\n",
    "# adding an r at the front of the string will stop treating \\ as an escape sequence\n",
    "# except even a raw string cannnot end with \\"
   ]
  },
  {
   "cell_type": "code",
   "execution_count": 20,
   "metadata": {},
   "outputs": [
    {
     "name": "stdout",
     "output_type": "stream",
     "text": [
      "my name is:\\\"vandana\"\n"
     ]
    }
   ],
   "source": [
    "# the following produces an error - delete the # in front on the line to run it\n",
    "#mystring = r\"my name is:\\vandana\\\"\n",
    "print(mystring)\n",
    "\n",
    "#NOTE: Despite its role, even a raw string cannot end in a single backslash, \n",
    "#because the backslash escapes the following quote character—you still must escape the surrounding \n",
    "# quote character to embed it in the string. \n",
    "#That is, r\"...\\\" is not a valid string literal—a raw string cannot end in an odd number of backslashes\n"
   ]
  },
  {
   "cell_type": "markdown",
   "metadata": {},
   "source": [
    "### String operators: concatenation and multiples"
   ]
  },
  {
   "cell_type": "code",
   "execution_count": 21,
   "metadata": {},
   "outputs": [
    {
     "name": "stdout",
     "output_type": "stream",
     "text": [
      "Hello world : "
     ]
    }
   ],
   "source": [
    "# use the + operator to concatenate two strings\n",
    "\n",
    "str1= \"Hello\"\n",
    "str2= \"world\"\n",
    "print(str1+ ' '+ str2, end= \" : \")   # costly operation\n",
    "\n",
    "# the print function has some options, \n",
    "# end can be used to specify the ending of the print statement\n",
    "# sep can be used to specify how to separate entries whne multiple elements are printed"
   ]
  },
  {
   "cell_type": "code",
   "execution_count": 22,
   "metadata": {},
   "outputs": [
    {
     "name": "stdout",
     "output_type": "stream",
     "text": [
      "Hello world\n"
     ]
    }
   ],
   "source": [
    "newstr12 = str1 + ' '+str2\n",
    "print(newstr12)"
   ]
  },
  {
   "cell_type": "code",
   "execution_count": 23,
   "metadata": {},
   "outputs": [
    {
     "name": "stdout",
     "output_type": "stream",
     "text": [
      "Joyce paid $100\n"
     ]
    }
   ],
   "source": [
    "# use the str() function to convert to string\n",
    "# say we want to print \"Joyce paid $____(the value of variable price)\"\n",
    "price = 100\n",
    "textstring = \"Joyce paid \"\n",
    "\n",
    "# the following line produces an error because you cannot concatenate string with numeric. remove # to run it\n",
    "#newtext = textstring + price\n",
    "\n",
    "newtext = textstring + '$' + str(price)\n",
    "print(newtext)"
   ]
  },
  {
   "cell_type": "code",
   "execution_count": 24,
   "metadata": {},
   "outputs": [
    {
     "name": "stdout",
     "output_type": "stream",
     "text": [
      "Hip Hip Hip Hurray!\n"
     ]
    }
   ],
   "source": [
    "# can use the * operator to add multiples of a string to itself\n",
    "\n",
    "word = \"Hip \"\n",
    "print(word * 3 +\"Hurray!\")"
   ]
  },
  {
   "cell_type": "markdown",
   "metadata": {},
   "source": [
    "### String methods"
   ]
  },
  {
   "cell_type": "code",
   "execution_count": 25,
   "metadata": {},
   "outputs": [],
   "source": [
    "# string has many helpful methods - here's a few\n",
    "\n",
    "# strname.upper()\n",
    "# strname.lower()\n",
    "# strname.title()\n",
    "# strname.capitalize()\n",
    "# strname.split()\n",
    "# strname.index()\n",
    "# strname.join()\n",
    "# strname.strip()\n",
    "# strname.replace()\n",
    "# strname.swapcase()\n",
    "# strname.count()\n",
    "# strname.partition()\n",
    "# strname.find()\n",
    "# strname.splitlines()\n",
    "# strname.lstrip()\n",
    "# strname.rstrip()"
   ]
  },
  {
   "cell_type": "code",
   "execution_count": 26,
   "metadata": {
    "scrolled": true
   },
   "outputs": [
    {
     "name": "stdout",
     "output_type": "stream",
     "text": [
      "THIS IS SOME TEXT\n",
      "this is some text\n",
      "This Is Some Text\n",
      "This is some text\n",
      "THIS IS SOME TEXT\n",
      "['this', 'is', 'some', 'text']\n",
      "3\n",
      "!this is some text*this is some text$\n",
      "this is some text\n",
      "this is any text\n",
      "3\n",
      "('this is ', 'some', ' text')\n",
      "8\n",
      "['this is some text']\n"
     ]
    }
   ],
   "source": [
    "sampletext = \"this is some text\"\n",
    "print(sampletext.upper())\n",
    "print(sampletext.lower())\n",
    "print(sampletext.title())\n",
    "print(sampletext.capitalize())\n",
    "print(sampletext.swapcase())\n",
    "print(sampletext.split(' '))   # produces a list of string objects\n",
    "print(sampletext.index('s'))\n",
    "print(sampletext.join('!*$'))\n",
    "print(sampletext.strip())\n",
    "print(sampletext.replace('some', 'any'))\n",
    "print(sampletext.count('t'))\n",
    "print(sampletext.partition('some'))   # produces a 3-tuple\n",
    "print(sampletext.find('some'))\n",
    "print(sampletext.splitlines())  # produces a list split by line- only one line here\n",
    "\n",
    "# we will see what a list and tuple are below"
   ]
  }
 ],
 "metadata": {
  "kernelspec": {
   "display_name": "Python 3",
   "language": "python",
   "name": "python3"
  },
  "language_info": {
   "codemirror_mode": {
    "name": "ipython",
    "version": 3
   },
   "file_extension": ".py",
   "mimetype": "text/x-python",
   "name": "python",
   "nbconvert_exporter": "python",
   "pygments_lexer": "ipython3",
   "version": "3.7.3"
  },
  "name": "VRJune18-Python basics",
  "notebookId": 2062488962315635
 },
 "nbformat": 4,
 "nbformat_minor": 1
}
