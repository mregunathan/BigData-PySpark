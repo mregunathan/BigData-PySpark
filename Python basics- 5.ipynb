{
 "cells": [
  {
   "cell_type": "markdown",
   "metadata": {},
   "source": [
    "# INTRO TO PYTHON\n",
    "## Topics: Functions, Lambdas, Scope of variables"
   ]
  },
  {
   "cell_type": "markdown",
   "metadata": {},
   "source": [
    "# FUNCTIONS"
   ]
  },
  {
   "cell_type": "code",
   "execution_count": 235,
   "metadata": {},
   "outputs": [],
   "source": [
    "#We write our own functions when we to reuse the same code many times."
   ]
  },
  {
   "cell_type": "code",
   "execution_count": 264,
   "metadata": {},
   "outputs": [
    {
     "name": "stdout",
     "output_type": "stream",
     "text": [
      "10\n"
     ]
    }
   ],
   "source": [
    "#Asimple user defined function\n",
    "x = 10\n",
    "\n",
    "#The indentation matters a lot in Python- everything inside the function is indented\n",
    "\n",
    "# start of function\n",
    "def funcfoo():\n",
    "  print(x)\n",
    "# end of function\n",
    "\n",
    "#Call a user defined function by typing its name\n",
    "funcfoo()"
   ]
  },
  {
   "cell_type": "code",
   "execution_count": 265,
   "metadata": {},
   "outputs": [
    {
     "name": "stdout",
     "output_type": "stream",
     "text": [
      "the value of first parameter is  mary\n",
      "the value of second parameter is  40\n"
     ]
    }
   ],
   "source": [
    "#Below is a fucntion that accepts inputs\n",
    "#They are formally called parameters\n",
    "#When you call such a function, calling it with no values (formally called arguments) will give an error\n",
    "#In python, because it is weakly typed, any type of arg/value can be passed to any parameters\n",
    "\n",
    "def funcfoo2(param1,param2):\n",
    "  print(\"the value of first parameter is \", param1)\n",
    "  print(\"the value of second parameter is \", param2)\n",
    "\n",
    "#funcfoo2()    #-this is incorrect\n",
    "funcfoo2(\"mary\", 40)"
   ]
  },
  {
   "cell_type": "markdown",
   "metadata": {},
   "source": [
    "## Scope of variables"
   ]
  },
  {
   "cell_type": "code",
   "execution_count": 266,
   "metadata": {},
   "outputs": [],
   "source": [
    "#SCOPE is about where variables can be accessed for editing/updating\n",
    "#variables defined inside a function are LOCAL to the function\n",
    "#variables not defined inside a function, but defined in the code file or notebook are called GLOBAL\n",
    "#if we have nested structures like nested functions, then in order for \n",
    "#an inner function to access a variable in the encompassing/outer function\n",
    "#the inner fuction has to specify that it wants to access the NON-LOCAL variable"
   ]
  },
  {
   "cell_type": "code",
   "execution_count": 267,
   "metadata": {},
   "outputs": [
    {
     "data": {
      "text/plain": [
       "10"
      ]
     },
     "execution_count": 267,
     "metadata": {},
     "output_type": "execute_result"
    }
   ],
   "source": [
    "# x is not defined inside a function, so it is GLOBAL\n",
    "x"
   ]
  },
  {
   "cell_type": "code",
   "execution_count": 268,
   "metadata": {},
   "outputs": [],
   "source": [
    "#Below code produces an error if you call funcfoo() below\n",
    "#It is commented out - remove # in front of call to funcfoo() to see\n",
    "#why? because x is global, so we cannot directly access it from within a function\n",
    "def funcfoo():\n",
    "  print(x)\n",
    "  x +=1\n",
    "#funcfoo()"
   ]
  },
  {
   "cell_type": "code",
   "execution_count": 269,
   "metadata": {},
   "outputs": [
    {
     "name": "stdout",
     "output_type": "stream",
     "text": [
      "20\n"
     ]
    }
   ],
   "source": [
    "#This code works ok, because we have defined x as a LOCAL variable \n",
    "#local to funcfoo(), so we can use it inside funcfoo()\n",
    "#here i defined two LOCAL variables, x and y \n",
    "\n",
    "def funcfoo():\n",
    "  x=20\n",
    "  y=30\n",
    "  print(x)\n",
    "  x +=1\n",
    "funcfoo()"
   ]
  },
  {
   "cell_type": "code",
   "execution_count": 270,
   "metadata": {},
   "outputs": [
    {
     "name": "stdout",
     "output_type": "stream",
     "text": [
      "10\n"
     ]
    }
   ],
   "source": [
    "#Notice that the value of x printed is 10 and not 20\n",
    "#that's because we are no longer inside the function, x is not the local variable or funcfoo()\n",
    "#rather it is the global variable x\n",
    "#local variables cannot be access outside of their function, hence why printing y gives an error\n",
    "print(x)\n",
    "#print(y)  # cannot do this"
   ]
  },
  {
   "cell_type": "code",
   "execution_count": 271,
   "metadata": {},
   "outputs": [
    {
     "name": "stdout",
     "output_type": "stream",
     "text": [
      "10\n",
      "11\n"
     ]
    }
   ],
   "source": [
    "#To access a global variable from inside a function\n",
    "#specify that is what you want to do by defining the variale as global\n",
    "\n",
    "def funcfoo():\n",
    "  global x   \n",
    "  print(x)\n",
    "  x +=1\n",
    "funcfoo()\n",
    "print(x)"
   ]
  },
  {
   "cell_type": "code",
   "execution_count": 279,
   "metadata": {},
   "outputs": [
    {
     "name": "stdout",
     "output_type": "stream",
     "text": [
      "the value of x defined in outerfoo() is  15\n",
      "the value of x defined in outerfoo() after adding 1 is  16\n",
      "the value of global x is  11\n"
     ]
    }
   ],
   "source": [
    "#The following is an example of nested functions - one inside another\n",
    "#Inside an inner function, to use a variabble from the outer function\n",
    "#you have to define it as nonlocal (rather than global)\n",
    "\n",
    "def outerfoo():\n",
    "  x=15\n",
    "  def innerfoo():\n",
    "    nonlocal x   \n",
    "    print(\"the value of x defined in outerfoo() is \", x)\n",
    "    x +=1\n",
    "  innerfoo()\n",
    "  print(\"the value of x defined in outerfoo() after adding 1 is \", x)\n",
    "outerfoo()\n",
    "print(\"the value of global x is \", x)"
   ]
  },
  {
   "cell_type": "markdown",
   "metadata": {},
   "source": [
    "# ADDITIONAL FUNCTIONS- MAP, FILTER"
   ]
  },
  {
   "cell_type": "code",
   "execution_count": 282,
   "metadata": {},
   "outputs": [
    {
     "name": "stdout",
     "output_type": "stream",
     "text": [
      "<class 'map'>\n",
      "[2, 4, 6, 8]\n"
     ]
    }
   ],
   "source": [
    "#map() is used when we want to apply the same function to \n",
    "#many inputs (that are stored in iterables)\n",
    "\n",
    "#map (function, iterA[, iterB,..]) \n",
    "\n",
    "#function is the name of the function to apply\n",
    "#iter are iterables - meaning a sequence or collection if inputs that can be looped over\n",
    "#an iterable goes over each value on by one\n",
    "#there should be as many iterable sequences following function as there are parameters defined in function f\n",
    "\n",
    "# Return double of n \n",
    "def doubleUp(n): \n",
    "    return n + n \n",
    "  \n",
    "# We double all numbers using map() \n",
    "numbers = (1, 2, 3, 4) \n",
    "result = map(doubleUp, numbers) \n",
    "print(type(result))\n",
    "print(list(result)) "
   ]
  },
  {
   "cell_type": "code",
   "execution_count": 1,
   "metadata": {},
   "outputs": [
    {
     "name": "stdout",
     "output_type": "stream",
     "text": [
      "<class 'map'>\n",
      "[22, 24, 24, 28]\n"
     ]
    }
   ],
   "source": [
    "def addTwoElements(m, n): \n",
    "    return n + n \n",
    "  \n",
    "# We double all numbers using map() \n",
    "numbers1 = (1, 2, 3, 4) \n",
    "numbers2 = (11, 12, 12, 14, 15) \n",
    "result = map(addTwoElements, numbers1, numbers2) \n",
    "print(type(result))\n",
    "print(list(result)) "
   ]
  },
  {
   "cell_type": "code",
   "execution_count": 274,
   "metadata": {},
   "outputs": [
    {
     "name": "stdout",
     "output_type": "stream",
     "text": [
      "<class 'map'>\n",
      "[9, 18, 27, 36]\n"
     ]
    }
   ],
   "source": [
    "def subtraction(m, n): \n",
    "    return m - n \n",
    "  \n",
    "# We double all numbers using map() \n",
    "numbers1 = (1, 2, 3, 4) \n",
    "numbers2 = (10,20,30,40, 50, 60)\n",
    "result = map(subtraction, numbers2, numbers1) \n",
    "print(type(result))\n",
    "print(list(result)) "
   ]
  },
  {
   "cell_type": "markdown",
   "metadata": {},
   "source": [
    "# LAMBDA FUNCTIONS"
   ]
  },
  {
   "cell_type": "code",
   "execution_count": 275,
   "metadata": {},
   "outputs": [
    {
     "name": "stdout",
     "output_type": "stream",
     "text": [
      "[5, 7, 9]\n"
     ]
    }
   ],
   "source": [
    "#Add two lists using map and lambda \n",
    "  \n",
    "numbers1 = [1, 2, 3] \n",
    "numbers2 = [4, 5, 6] \n",
    "  \n",
    "result = map(lambda x, y: x + y, numbers1, numbers2) \n",
    "print(list(result)) \n"
   ]
  },
  {
   "cell_type": "code",
   "execution_count": 288,
   "metadata": {},
   "outputs": [
    {
     "data": {
      "text/plain": [
       "[0, 2, 4, 6, 8]"
      ]
     },
     "execution_count": 288,
     "metadata": {},
     "output_type": "execute_result"
    }
   ],
   "source": [
    "#filter() is a function where we can apply a filter function\n",
    "#to values in an iterable\n",
    "#filter(predicate_function, iter)\n",
    "#predicate is a function that returns a truth value - takes a single value\n",
    "#iter is an iterator - something that goes over a sequence one by one\n",
    "\n",
    "def is_even(x):\n",
    "  return (x % 2) ==0\n",
    "\n",
    "list(filter(is_even,range(10)))"
   ]
  },
  {
   "cell_type": "code",
   "execution_count": 289,
   "metadata": {},
   "outputs": [
    {
     "data": {
      "text/plain": [
       "[1, 3, 5, 7, 9]"
      ]
     },
     "execution_count": 289,
     "metadata": {},
     "output_type": "execute_result"
    }
   ],
   "source": [
    "# can use a LAMBDA function instead as well\n",
    "# in Python 0 is False, all other vaues are True\n",
    "\n",
    "list(filter(lambda x: x%2, range(10)))  "
   ]
  }
 ],
 "metadata": {
  "kernelspec": {
   "display_name": "Python 3",
   "language": "python",
   "name": "python3"
  },
  "language_info": {
   "codemirror_mode": {
    "name": "ipython",
    "version": 3
   },
   "file_extension": ".py",
   "mimetype": "text/x-python",
   "name": "python",
   "nbconvert_exporter": "python",
   "pygments_lexer": "ipython3",
   "version": "3.7.3"
  },
  "name": "VRJune18-Python basics",
  "notebookId": 2062488962315635
 },
 "nbformat": 4,
 "nbformat_minor": 1
}
