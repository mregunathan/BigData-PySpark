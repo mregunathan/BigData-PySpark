{
 "cells": [
  {
   "cell_type": "code",
   "execution_count": 39,
   "metadata": {},
   "outputs": [
    {
     "name": "stdout",
     "output_type": "stream",
     "text": [
      "[10.5, 30.0, 18.5]\n"
     ]
    }
   ],
   "source": [
    "# Task 1\n",
    "list1 = [\"10.5\", \"30\", \"18.5\"]\n",
    "list2 = []\n",
    "\n",
    "# Method 1\n",
    "# for l in list1:\n",
    "#     list2.append(float(l))\n",
    "# print(list2)\n",
    "\n",
    "# Method 2\n",
    "#result = map(lambda x: float(x), list1)\n",
    "#print(list(result))\n",
    "\n",
    "# Method 3\n",
    "list1 = [float(l) for l in list1]\n",
    "print(list1)"
   ]
  },
  {
   "cell_type": "code",
   "execution_count": 40,
   "metadata": {},
   "outputs": [
    {
     "name": "stdout",
     "output_type": "stream",
     "text": [
      "['Utah', 'New York', 'Alabama', 'Wyoming']\n"
     ]
    }
   ],
   "source": [
    "# Task 2\n",
    "import re\n",
    "states = [\"Utah$$\", \"   New! York\", \"alabama    \",\"Wyoming,,\"]\n",
    "new_states = []\n",
    "for state in states:\n",
    "    new_state = re.sub(\"[^A-Za-z ]+\", \"\", state) # Removes special characters\n",
    "    new_state = new_state.strip() # Removes the leading ad trailing spcaces\n",
    "    new_state = new_state.title() # Capitalize the first character of each word\n",
    "    new_states.append(new_state)\n",
    "print(new_states)\n",
    "\n",
    "#map(re.sub)\n"
   ]
  },
  {
   "cell_type": "code",
   "execution_count": 41,
   "metadata": {},
   "outputs": [
    {
     "name": "stdout",
     "output_type": "stream",
     "text": [
      "[('B', 67), ('A', 88), ('D', 92), ('C', 100)]\n"
     ]
    }
   ],
   "source": [
    "# Task 3\n",
    "dictofscores = {'A' : 88, 'B' :  67, 'C' : 100, 'D' : 92}\n",
    "\n",
    "# Task 3A\n",
    "dictofscores1 = sorted(dictofscores.items(), key = lambda k:k[1])\n",
    "print(dictofscores1)"
   ]
  },
  {
   "cell_type": "code",
   "execution_count": 42,
   "metadata": {},
   "outputs": [
    {
     "name": "stdout",
     "output_type": "stream",
     "text": [
      "86.75\n",
      "86.75\n"
     ]
    }
   ],
   "source": [
    "# Task 3B\n",
    "import statistics\n",
    "\n",
    "# Method 1\n",
    "sum_marks = 0\n",
    "for val in dictofscores.values():\n",
    "    sum_marks += val\n",
    "print(sum_marks / len(dictofscores.values()))\n",
    "\n",
    "# Method 2\n",
    "print(statistics.mean(dictofscores.values()))"
   ]
  },
  {
   "cell_type": "code",
   "execution_count": 51,
   "metadata": {},
   "outputs": [
    {
     "name": "stdout",
     "output_type": "stream",
     "text": [
      "[('John Doe', 11, 3), ('Sam Day', 13, 4), ('Bri Jane', 15, 2), ('Sam Day', 10, 2)]\n"
     ]
    }
   ],
   "source": [
    "adict  = { 11 :  ['John Doe', 8.75, 9, 10 ], \n",
    "            13 :  ['Sam Day', 6.5, 9.5, 6 , 8] , \n",
    "            15 :  ['Bri Jane', 9.2, 9 ],\n",
    "            10 :  ['Sam Day', 8, 9]   }\n",
    "\n",
    "list2 = []\n",
    "\n",
    "# Method 1\n",
    "# for key, values in adict.items():\n",
    "#     list1 = []\n",
    "#     list1.insert(1, key)\n",
    "#     list1.insert(0, values[0])\n",
    "#     list1.insert(2, len(values) - 1)\n",
    "#     list2.append(tuple(list1))\n",
    "\n",
    "# Method 2\n",
    "# for key, values in adict.items():\n",
    "#     list1 = []\n",
    "#     list1.append(values[0])\n",
    "#     list1.append(key)\n",
    "#     list1.append(len(values) - 1)\n",
    "#     list2.append(tuple(list1))\n",
    "\n",
    "# Method 3\n",
    "for key, values in adict.items():\n",
    "    tup1 = (values[0], key, len(values) - 1)\n",
    "    list2.append(tup1)\n",
    "\n",
    "print(list2)\n",
    "\n",
    "\n"
   ]
  },
  {
   "cell_type": "code",
   "execution_count": 52,
   "metadata": {},
   "outputs": [
    {
     "name": "stdout",
     "output_type": "stream",
     "text": [
      "[('Bri Jane', 15, 2), ('Sam Day', 10, 2), ('John Doe', 11, 3), ('Sam Day', 13, 4)]\n"
     ]
    }
   ],
   "source": [
    "# Additional\n",
    "list3 = sorted(list2, key = lambda x:(x[2], x[0]))\n",
    "print(list3)"
   ]
  },
  {
   "cell_type": "code",
   "execution_count": 45,
   "metadata": {},
   "outputs": [
    {
     "name": "stdout",
     "output_type": "stream",
     "text": [
      "{'bear': 2, 'bee': 3, 'boar': 1}\n"
     ]
    }
   ],
   "source": [
    "list_words = ['bear', 'deer', 'fish', 'bee', 'boar', 'horse', 'cat', 'dog', 'bee', 'bear', 'bee']\n",
    "count = 0\n",
    "dict_b_words = {}\n",
    "for word in list_words:\n",
    "    if word.startswith(\"b\"):\n",
    "        if word in dict_b_words:\n",
    "            dict_b_words[word] += 1\n",
    "        else:\n",
    "            dict_b_words[word] = 1\n",
    "            \n",
    "print(dict_b_words)"
   ]
  },
  {
   "cell_type": "code",
   "execution_count": null,
   "metadata": {},
   "outputs": [],
   "source": []
  }
 ],
 "metadata": {
  "kernelspec": {
   "display_name": "Python 3",
   "language": "python",
   "name": "python3"
  },
  "language_info": {
   "codemirror_mode": {
    "name": "ipython",
    "version": 3
   },
   "file_extension": ".py",
   "mimetype": "text/x-python",
   "name": "python",
   "nbconvert_exporter": "python",
   "pygments_lexer": "ipython3",
   "version": "3.7.3"
  }
 },
 "nbformat": 4,
 "nbformat_minor": 2
}
