{
 "cells": [
  {
   "cell_type": "markdown",
   "metadata": {},
   "source": [
    "# NUMPY OPERATIONS\n",
    "\n",
    "Note: as with standard Python, most NumPy functions exist as instance methods of the ndarray.\n",
    "\n",
    "so we can call them both ways (for most cases):\\\n",
    "np.functionname(arrayname, [optional parameters])\\\n",
    "arrayname.methodname([optional parameters])"
   ]
  },
  {
   "cell_type": "code",
   "execution_count": 2,
   "metadata": {},
   "outputs": [],
   "source": [
    "import numpy as np"
   ]
  },
  {
   "cell_type": "markdown",
   "metadata": {},
   "source": [
    "# VECTORIZATION\n",
    "\n",
    "The name given to the technnique whereby Numpy array operations are performed element by element "
   ]
  },
  {
   "cell_type": "markdown",
   "metadata": {},
   "source": [
    "## ARRAY ARITHMETIC\n",
    "\n",
    "Let's first see a few simple math examples.\\\n",
    "In the next section we will see that +-*/ are just short hand for ufuncs."
   ]
  },
  {
   "cell_type": "code",
   "execution_count": 3,
   "metadata": {},
   "outputs": [
    {
     "name": "stdout",
     "output_type": "stream",
     "text": [
      "[[1 1 1 1]\n",
      " [2 2 2 2]]\n"
     ]
    },
    {
     "data": {
      "text/plain": [
       "array([[1, 1, 1, 1],\n",
       "       [4, 4, 4, 4]])"
      ]
     },
     "execution_count": 3,
     "metadata": {},
     "output_type": "execute_result"
    }
   ],
   "source": [
    "xarr =np.array([[1,1,1,1],[2,2,2,2]])\n",
    "print(xarr)\n",
    "xarr * xarr"
   ]
  },
  {
   "cell_type": "code",
   "execution_count": 80,
   "metadata": {},
   "outputs": [
    {
     "data": {
      "text/plain": [
       "array([[1., 1., 1., 1.],\n",
       "       [1., 1., 1., 1.]])"
      ]
     },
     "execution_count": 80,
     "metadata": {},
     "output_type": "execute_result"
    }
   ],
   "source": [
    "xarr/xarr"
   ]
  },
  {
   "cell_type": "code",
   "execution_count": 81,
   "metadata": {},
   "outputs": [
    {
     "data": {
      "text/plain": [
       "array([[6, 6, 6, 6],\n",
       "       [7, 7, 7, 7]])"
      ]
     },
     "execution_count": 81,
     "metadata": {},
     "output_type": "execute_result"
    }
   ],
   "source": [
    "xarr + 5"
   ]
  },
  {
   "cell_type": "code",
   "execution_count": 82,
   "metadata": {},
   "outputs": [
    {
     "data": {
      "text/plain": [
       "array([[1, 1, 1, 1],\n",
       "       [2, 2, 2, 2]])"
      ]
     },
     "execution_count": 82,
     "metadata": {},
     "output_type": "execute_result"
    }
   ],
   "source": [
    "xarr"
   ]
  },
  {
   "cell_type": "code",
   "execution_count": 83,
   "metadata": {},
   "outputs": [
    {
     "data": {
      "text/plain": [
       "array([[4, 4, 4, 4],\n",
       "       [5, 5, 5, 5]])"
      ]
     },
     "execution_count": 83,
     "metadata": {},
     "output_type": "execute_result"
    }
   ],
   "source": [
    "yarr=[3,3,3,3]\n",
    "\n",
    "xarr + yarr"
   ]
  },
  {
   "cell_type": "markdown",
   "metadata": {},
   "source": [
    "## UNIVERSAL FUNCTIONS UFUNCS - VECTORIZATION\n",
    "\n",
    "Mathematial operations in numpy are done using ufuncs\n",
    "\n",
    "These functions include standard arithmetic and trigonometric functions, functions for arithmetic operations, handling complex numbers, statistical functions etc\n",
    "\n",
    "Properties\n",
    "- they operate on ndarray, element by element\n",
    "- some ufuncs are called automatically when the corresponding arithmetic operator is called (np.add(x, 5)) is called for x+5 where x is an ndarray\n",
    "- they exist in two flavors: **unary** ufuncs (operate on one array) and **binary** ufuncs (operate on two arrays)\n",
    "\n",
    "NOTE: even though Python has similar named functions()- min, max, they are different from the numpy versions (np.max() and np.min())."
   ]
  },
  {
   "cell_type": "code",
   "execution_count": 9,
   "metadata": {},
   "outputs": [],
   "source": [
    "#The key to making NumPy operations fast is the use of \n",
    "#vectorized operations (element by element)."
   ]
  },
  {
   "cell_type": "markdown",
   "metadata": {},
   "source": [
    "## Arithmetic operations\n"
   ]
  },
  {
   "cell_type": "code",
   "execution_count": 11,
   "metadata": {},
   "outputs": [
    {
     "name": "stdout",
     "output_type": "stream",
     "text": [
      "[0 1 2 3]\n"
     ]
    }
   ],
   "source": [
    "x = np.arange(4)\n",
    "print(x)"
   ]
  },
  {
   "cell_type": "code",
   "execution_count": 14,
   "metadata": {},
   "outputs": [
    {
     "name": "stdout",
     "output_type": "stream",
     "text": [
      "[5 6 7 8]\n",
      "[-5 -4 -3 -2]\n",
      "[ 0  5 10 15]\n",
      "[0.  0.2 0.4 0.6]\n",
      "[0 0 1 1]\n",
      "[ 0 -1 -2 -3]\n",
      "[0 1 0 1]\n",
      "[0 1 4 9]\n",
      "[0 1 4 9]\n"
     ]
    }
   ],
   "source": [
    "print(x+5)\n",
    "print(x-5)\n",
    "print(x*5)\n",
    "print(x/5)\n",
    "print(x//2)  # floor divide\n",
    "print(-x)\n",
    "print(x%2)\n",
    "print(x**2)  # x raised to power 2\n",
    "print(x*x)   # because of vectorization, same result as above"
   ]
  },
  {
   "cell_type": "code",
   "execution_count": 15,
   "metadata": {},
   "outputs": [],
   "source": [
    "#These arithmetic operations are simply convenient wrappers \n",
    "#around specific functions built into NumPy.\n",
    "#For example, the + operator is a wrapper for the add function"
   ]
  },
  {
   "cell_type": "code",
   "execution_count": 18,
   "metadata": {},
   "outputs": [
    {
     "name": "stdout",
     "output_type": "stream",
     "text": [
      "[5 6 7 8]\n",
      "[-5 -4 -3 -2]\n",
      "[ 0  5 10 15]\n",
      "[0.  0.2 0.4 0.6]\n",
      "[0 0 1 1]\n",
      "[ 0 -1 -2 -3]\n",
      "[0 1 0 1]\n",
      "[0 1 4 9]\n",
      "[0 1 4 9]\n"
     ]
    }
   ],
   "source": [
    "# the equivalent unfuncs\n",
    "\n",
    "print(np.add(x,5))\n",
    "print(np.subtract(x,5))\n",
    "print(np.multiply(x,5))\n",
    "print(np.divide(x,5))\n",
    "print(np.floor_divide(x,2))  # floor divide\n",
    "print(np.negative(x))\n",
    "print(np.mod(x,2))\n",
    "print(np.power(x,2))\n",
    "print(np.multiply(x,x))\n"
   ]
  },
  {
   "cell_type": "code",
   "execution_count": 32,
   "metadata": {},
   "outputs": [
    {
     "name": "stdout",
     "output_type": "stream",
     "text": [
      "[3. 4. 4. 4.]\n"
     ]
    }
   ],
   "source": [
    "print(np.round(np.divide(x,2) + 3))"
   ]
  },
  {
   "cell_type": "code",
   "execution_count": 148,
   "metadata": {},
   "outputs": [
    {
     "name": "stdout",
     "output_type": "stream",
     "text": [
      "[[0.  0.2 0.4 0.6 0.8]]\n"
     ]
    }
   ],
   "source": [
    "new = np.array([[0,-2,4,-6,8]])\n",
    "print(np.abs(new/10))\n",
    "\n",
    "# calling just abs(q[[0,2,4,6,8]]/10) will call numpy's absolute() function internally"
   ]
  },
  {
   "cell_type": "markdown",
   "metadata": {},
   "source": [
    "# BROADCASTING\n",
    "\n",
    "Broadcasting is simply a set of rules for applying binary ufuncs (addition, subtraction, multiplication, etc.) on arrays of different sizes.\n",
    "\n",
    "When arays are of same size, straightforward to apply element by element operations. \n",
    "\n",
    "Broadcasting extends the arrays as needed to make it work on arrays of diff shape"
   ]
  },
  {
   "cell_type": "code",
   "execution_count": 4,
   "metadata": {},
   "outputs": [
    {
     "name": "stdout",
     "output_type": "stream",
     "text": [
      "[[1. 1. 1.]\n",
      " [1. 1. 1.]]\n",
      "[0 1 2]\n"
     ]
    }
   ],
   "source": [
    "M = np.ones((2, 3))       \n",
    "N = np.arange(3)\n",
    "print(M)\n",
    "print(N)"
   ]
  },
  {
   "cell_type": "code",
   "execution_count": 5,
   "metadata": {},
   "outputs": [
    {
     "name": "stdout",
     "output_type": "stream",
     "text": [
      "(2, 3)\n",
      "(3,)\n"
     ]
    },
    {
     "data": {
      "text/plain": [
       "array([[1., 2., 3.],\n",
       "       [1., 2., 3.]])"
      ]
     },
     "execution_count": 5,
     "metadata": {},
     "output_type": "execute_result"
    }
   ],
   "source": [
    "print(M.shape)\n",
    "print(N.shape)\n",
    "#Broadcasting happens to change N to (1,3)\n",
    "#and then N is extended to (2,3) and then added to M\n",
    "\n",
    "M+N"
   ]
  },
  {
   "cell_type": "markdown",
   "metadata": {},
   "source": [
    "# STRUCTURED DATA\n",
    "\n",
    "NumPy also has some support for structured data (like tables in excel or a spreadsheet) with optional field /column names.\n",
    "\n",
    "But these are best handled using Pandas."
   ]
  },
  {
   "cell_type": "code",
   "execution_count": null,
   "metadata": {},
   "outputs": [],
   "source": []
  }
 ],
 "metadata": {
  "kernelspec": {
   "display_name": "Python 3",
   "language": "python",
   "name": "python3"
  },
  "language_info": {
   "codemirror_mode": {
    "name": "ipython",
    "version": 3
   },
   "file_extension": ".py",
   "mimetype": "text/x-python",
   "name": "python",
   "nbconvert_exporter": "python",
   "pygments_lexer": "ipython3",
   "version": "3.7.3"
  }
 },
 "nbformat": 4,
 "nbformat_minor": 2
}
