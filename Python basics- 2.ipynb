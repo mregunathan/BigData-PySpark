{
 "cells": [
  {
   "cell_type": "markdown",
   "metadata": {},
   "source": [
    "# INTRO TO PYTHON\n",
    "## TOPICS: Sequences-  Range and Control Structures\n"
   ]
  },
  {
   "cell_type": "markdown",
   "metadata": {},
   "source": [
    "# SEQUENCES"
   ]
  },
  {
   "cell_type": "code",
   "execution_count": 208,
   "metadata": {},
   "outputs": [],
   "source": [
    "# Some of the data types are known as Sequences \n",
    "# where multiple elements can be stored in some order\n",
    "# sequences include strings, list, tuples, range (we will see more about these later)\n",
    "\n",
    "# because there is an order, we can access elements at any position using their index inside square brackets\n",
    "# seqname[index]\n"
   ]
  },
  {
   "cell_type": "markdown",
   "metadata": {},
   "source": [
    "### ITERABLES"
   ]
  },
  {
   "cell_type": "code",
   "execution_count": 217,
   "metadata": {},
   "outputs": [],
   "source": [
    "# there are also ITERABLES\n",
    "\n",
    "# An iterable is something you can loop over. \n",
    "# iterables inclcude: sequence (string, tuple, list) or collection (set, dictionary) or any iterator \n",
    "\n",
    "# Sequences are a very common type of iterable. \n",
    "# Many things in Python are iterables, but not all of them are sequences. \n",
    "# An iterator is an object representing a stream of data."
   ]
  },
  {
   "cell_type": "markdown",
   "metadata": {},
   "source": [
    "## SLICING SEQUENCES"
   ]
  },
  {
   "cell_type": "code",
   "execution_count": 28,
   "metadata": {},
   "outputs": [
    {
     "name": "stdout",
     "output_type": "stream",
     "text": [
      "i\n",
      "is a really long string, we will use it to test slicing\n",
      "is a \n",
      "this is a really long string, we will use it to test sl\n",
      "icing\n",
      "ti saral ogsrn,w iluei ots lcn\n",
      "giiste tt s lwe git nlyle  ish\n"
     ]
    }
   ],
   "source": [
    "# sequences can be sliced using slice indexing with indices provided inside squared brackets separated by colons\n",
    "# slicing uses a [startIndex :endIndex :step ]\n",
    "# can use negative indexing, starting with -1 from the end\n",
    "\n",
    "# let's see how they work with Strings\n",
    "newstr = \"this is a really long string, we will use it to test slicing\"\n",
    "print(newstr[5])   # print one char at index 5\n",
    "print(newstr[5:])  # print substring starting at index 5\n",
    "print(newstr[5:10])  # print substring starting at index 5 and ending at index stopindex-1, i.e. 10-1\n",
    "print(newstr[:-5])  # print substring starting at index 0 and ending at index -5, \n",
    "print(newstr[-5:])  # print substring starting at index 5 from the end and going till the end\n",
    "print(newstr[::2])  # print substring of every other char\n",
    "print(newstr[::-2])  # print substring of every other char in reverse order\n"
   ]
  },
  {
   "cell_type": "code",
   "execution_count": 29,
   "metadata": {},
   "outputs": [
    {
     "data": {
      "text/plain": [
       "'\\nx in s - True if an item of s is equal to x, else False\\nx not in s - False if an item of s is equal to x, else True\\ns + t - concatenation\\ns * n - add s to itself n times\\ns[i] - retrieve ith item of s\\ns[i:j] - slice of s from i to j\\ns[i:j:k] - slice of s from i to j with step k\\nlen(s) - length of s, number of items  in sequence\\nmin(s)- smallest item of s\\nmax(s) - largest item of s\\ns.index[x, i[,j]] - index of first occurrence of x in s (at or after index i and before j)\\ns.count(x) - total occurrences of x in s\\n'"
      ]
     },
     "execution_count": 29,
     "metadata": {},
     "output_type": "execute_result"
    }
   ],
   "source": [
    "# strings have many specialized sequence operations\n",
    "\n",
    "# common operations available across sequences: \n",
    "# s and t are sequences, x is an item of a sequence and i, j, n are ints\n",
    "\n",
    "# try these out for yourself\n",
    "\"\"\"\n",
    "x in s - True if an item of s is equal to x, else False\n",
    "x not in s - False if an item of s is equal to x, else True\n",
    "s + t - concatenation\n",
    "s * n - add s to itself n times\n",
    "s[i] - retrieve ith item of s\n",
    "s[i:j] - slice of s from i to j\n",
    "s[i:j:k] - slice of s from i to j with step k\n",
    "len(s) - length of s, number of items  in sequence\n",
    "min(s)- smallest item of s\n",
    "max(s) - largest item of s\n",
    "s.index[x, i[,j]] - index of first occurrence of x in s (at or after index i and before j)\n",
    "s.count(x) - total occurrences of x in s\n",
    "\"\"\"\n",
    "\n"
   ]
  },
  {
   "cell_type": "markdown",
   "metadata": {},
   "source": [
    "### in and not in- Checking for presence or membership"
   ]
  },
  {
   "cell_type": "code",
   "execution_count": 30,
   "metadata": {},
   "outputs": [
    {
     "name": "stdout",
     "output_type": "stream",
     "text": [
      "True\n"
     ]
    }
   ],
   "source": [
    "# for strings, we can use 'in' to check for substrings\n",
    "\n",
    "answer = 'string' in 'Let\\'s check for a substring'\n",
    "print(answer)"
   ]
  },
  {
   "cell_type": "code",
   "execution_count": 31,
   "metadata": {},
   "outputs": [
    {
     "name": "stdout",
     "output_type": "stream",
     "text": [
      "False\n"
     ]
    }
   ],
   "source": [
    "answer = 'string' not in 'Let\\'s check for a substring'\n",
    "print(answer)"
   ]
  },
  {
   "cell_type": "markdown",
   "metadata": {},
   "source": [
    "# RANGE"
   ]
  },
  {
   "cell_type": "code",
   "execution_count": 1,
   "metadata": {},
   "outputs": [
    {
     "data": {
      "text/plain": [
       "range(1, 10)"
      ]
     },
     "execution_count": 1,
     "metadata": {},
     "output_type": "execute_result"
    }
   ],
   "source": [
    "# RANGE is the simplest sequence\n",
    "\n",
    "#Immutable sequence of numbers. To create call range() function\n",
    "# common use case: used for looping a specified number of times in loops\n",
    "\n",
    "range(1,10)"
   ]
  },
  {
   "cell_type": "code",
   "execution_count": 37,
   "metadata": {},
   "outputs": [
    {
     "name": "stdout",
     "output_type": "stream",
     "text": [
      "range(0, 10)\n"
     ]
    }
   ],
   "source": [
    "myrange = range(10)\n",
    "print(myrange)"
   ]
  },
  {
   "cell_type": "code",
   "execution_count": 38,
   "metadata": {},
   "outputs": [
    {
     "data": {
      "text/plain": [
       "range(0, 10, 2)"
      ]
     },
     "execution_count": 38,
     "metadata": {},
     "output_type": "execute_result"
    }
   ],
   "source": [
    "# specify start (0 by default), stop (required, not inclusive), step (1 by default)\n",
    "range(0,10,2)"
   ]
  },
  {
   "cell_type": "markdown",
   "metadata": {},
   "source": [
    "# CONTROL STRUCTURES"
   ]
  },
  {
   "cell_type": "markdown",
   "metadata": {},
   "source": [
    "## if-elif-else "
   ]
  },
  {
   "cell_type": "code",
   "execution_count": 32,
   "metadata": {},
   "outputs": [
    {
     "name": "stdout",
     "output_type": "stream",
     "text": [
      "Yes!\n"
     ]
    }
   ],
   "source": [
    "somestring = 'Let\\'s check for a substring'\n",
    "\n",
    "if  'string' in somestring:\n",
    "  print(\"Yes!\")\n",
    "else:\n",
    "  print(\"not found\")"
   ]
  },
  {
   "cell_type": "code",
   "execution_count": 33,
   "metadata": {},
   "outputs": [
    {
     "name": "stdout",
     "output_type": "stream",
     "text": [
      "Yes!\n"
     ]
    }
   ],
   "source": [
    "# once a True condition is encountered\n",
    "# the rest of the elif and else code will be skipped\n",
    "# so order of checks matters\n",
    "\n",
    "if  'string' in somestring:\n",
    "  print(\"Yes!\")\n",
    "elif 'ring' in somestring:\n",
    "    print(\"Yes!!\")\n",
    "else:\n",
    "  print(\"not found\")"
   ]
  },
  {
   "cell_type": "markdown",
   "metadata": {},
   "source": [
    "## loops"
   ]
  },
  {
   "cell_type": "code",
   "execution_count": 102,
   "metadata": {},
   "outputs": [
    {
     "name": "stdout",
     "output_type": "stream",
     "text": [
      "A\n",
      "B\n",
      "C\n",
      "D\n"
     ]
    }
   ],
   "source": [
    "sample =\"ABCD\"\n",
    "for i in sample:\n",
    "    print(i)"
   ]
  },
  {
   "cell_type": "code",
   "execution_count": null,
   "metadata": {},
   "outputs": [],
   "source": [
    "for "
   ]
  },
  {
   "cell_type": "code",
   "execution_count": 103,
   "metadata": {},
   "outputs": [
    {
     "name": "stdout",
     "output_type": "stream",
     "text": [
      "1\n",
      "2\n",
      "3\n"
     ]
    }
   ],
   "source": [
    "i = 1\n",
    "while  i < len(sample):\n",
    "    print(i)\n",
    "    i += 1"
   ]
  },
  {
   "cell_type": "markdown",
   "metadata": {},
   "source": [
    "# Using range objects in loops"
   ]
  },
  {
   "cell_type": "code",
   "execution_count": null,
   "metadata": {},
   "outputs": [],
   "source": [
    "# notice that in  loops we need to use a variable (I used i above ) \n",
    "# as a counter to keep track of how many times we have been through the loop already\n",
    "# additionally, we have to tell the loop how to count- where to start and end, and how to step\n",
    "\n",
    "# instead we can use the range object - makes it easier to count in loops"
   ]
  },
  {
   "cell_type": "code",
   "execution_count": 97,
   "metadata": {},
   "outputs": [
    {
     "name": "stdout",
     "output_type": "stream",
     "text": [
      "not found\n"
     ]
    }
   ],
   "source": [
    "if 10 in range(0, 10, 2):   # range contains 0,2,4,6,8\n",
    "  print(\"found\")\n",
    "else:\n",
    "  print(\"not found\")\n"
   ]
  },
  {
   "cell_type": "code",
   "execution_count": 100,
   "metadata": {},
   "outputs": [
    {
     "name": "stdout",
     "output_type": "stream",
     "text": [
      "0 1 2 3 4 5 6 7 8 9 \n",
      "\n"
     ]
    }
   ],
   "source": [
    "# to print items on the same line, use end option of print function\n",
    "# default value of end is \\n\n",
    "\n",
    "for i in range(10):\n",
    "  print(i, end=' ')\n",
    "print(\"\\n\")"
   ]
  },
  {
   "cell_type": "code",
   "execution_count": 104,
   "metadata": {},
   "outputs": [
    {
     "name": "stdout",
     "output_type": "stream",
     "text": [
      "range(0, 10)\n",
      "0!0 * 1!1 * 2!2 * 3!3 * 4!4 * 5!5 * 6!6 * 7!7 * 8!8 * 9!9 * "
     ]
    }
   ],
   "source": [
    "# below we use a range object, myrange, which was created above\n",
    "print(myrange)\n",
    "for n in myrange:\n",
    "  print(n, n, sep=\"!\", end = \" * \")\n",
    "  \n",
    "# above you can see a few print options.\n",
    "# sep is used to specify how to separate the values in one iteration\n",
    "# end is used to specify how to separate the values across iterations"
   ]
  },
  {
   "cell_type": "code",
   "execution_count": 106,
   "metadata": {},
   "outputs": [
    {
     "name": "stdout",
     "output_type": "stream",
     "text": [
      "0 0\n",
      "1 1\n",
      "2 2\n",
      "3 3\n",
      "4 4\n",
      "5 5\n",
      "6 6\n",
      "7 7\n",
      "8 8\n",
      "9 9\n"
     ]
    }
   ],
   "source": [
    "for n in myrange:\n",
    "  print(n, n)"
   ]
  }
 ],
 "metadata": {
  "kernelspec": {
   "display_name": "Python 3",
   "language": "python",
   "name": "python3"
  },
  "language_info": {
   "codemirror_mode": {
    "name": "ipython",
    "version": 3
   },
   "file_extension": ".py",
   "mimetype": "text/x-python",
   "name": "python",
   "nbconvert_exporter": "python",
   "pygments_lexer": "ipython3",
   "version": "3.7.3"
  },
  "name": "VRJune18-Python basics",
  "notebookId": 2062488962315635
 },
 "nbformat": 4,
 "nbformat_minor": 1
}
